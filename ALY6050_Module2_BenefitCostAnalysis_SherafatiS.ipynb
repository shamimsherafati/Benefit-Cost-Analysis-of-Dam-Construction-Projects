{
 "cells": [
  {
   "cell_type": "markdown",
   "metadata": {
    "id": "1xgwm4p_HYaL"
   },
   "source": [
    "# Problem:\n",
    "\n",
    "Corporations have to select among many projects that are under consideration by the management. Their\n",
    "primary instrument for evaluating and selecting among the available projects is the benefit-cost analysis. In\n",
    "this analysis, both the annual benefits and the annual costs deriving from a project are estimated in several\n",
    "different categories. Then the total benefit is divided by the total cost to produce a benefit-cost ratio. This\n",
    "ratio is then used by corporations to compare numerous projects under consideration. A benefit-cost\n",
    "ratio greater than 1.0 indicates that the benefits are greater than the costs, and the higher a project’s\n",
    "benefit-cost ratio, the more likely it is to be selected over projects with lower ratios.\n",
    "Currently, the JET Corporation is evaluating two dam project constructions, one in southwest Georgia\n",
    "(Dam #1) and the other in North Carolina (Dam #2). The company has identified six areas of benefits:\n",
    "improved navigation, hydroelectric power, fish and wildlife, recreation, flood control, and the commercial\n",
    "development of the area. Furthermore, there are three estimates available for each type benefit – a\n",
    "minimum possible value, a most likely value (i.e., a mode or peak), and a maximum possible value. For the\n",
    "costs, two categories associated with a construction project of this type have been identified: the total\n",
    "capital cost, annualized over 30 years (at a rate specified by the creditors and the government), and the\n",
    "annual operations and maintenance costs. These benefits and costs estimations for both dam projects (in\n",
    "millions of dollars) are as follows:\n"
   ]
  },
  {
   "cell_type": "code",
   "execution_count": 3,
   "metadata": {
    "id": "Jtcuq6q-PBnH"
   },
   "outputs": [],
   "source": [
    "import numpy as np\n",
    "import pandas as pd\n",
    "import seaborn as sns\n",
    "import matplotlib.pyplot as plt"
   ]
  },
  {
   "cell_type": "code",
   "execution_count": 4,
   "metadata": {
    "id": "YCN7PTCvHWvb"
   },
   "outputs": [],
   "source": [
    "# dam1 benefits\n",
    "d1_b1 = (1.1, 2, 2.8)\n",
    "d1_b2 = (8, 12, 14.9)\n",
    "d1_b3 = (1.4, 1.4, 2.2)\n",
    "d1_b4 = (6.5, 9.8, 14.6)\n",
    "d1_b5 = (1.7, 2.4, 3.6)\n",
    "d1_b6 = (0, 1.6, 2.4)\n",
    "\n",
    "# dam1 cost\n",
    "d1_c1 = (13.2, 14.2, 19.1)\n",
    "d1_c2 = (3.5, 4.9, 7.4)\n",
    "\n",
    "#dam1 benefit params\n",
    "d1_benefit_params = [d1_b1, d1_b2, d1_b3, d1_b4, d1_b5, d1_b6]\n",
    "\n",
    "# dam1 cost params\n",
    "d1_cost_params = [d1_c1, d1_c2]\n"
   ]
  },
  {
   "cell_type": "code",
   "execution_count": 4,
   "metadata": {
    "id": "6y8oN0FNTMiX"
   },
   "outputs": [],
   "source": []
  },
  {
   "cell_type": "code",
   "execution_count": 5,
   "metadata": {
    "id": "vY5KkDieIvj6"
   },
   "outputs": [],
   "source": [
    "# dam2 benefits\n",
    "d2_b1 = (2.1, 3, 4.8)\n",
    "d2_b2 = (8.7, 12.2, 13.6)\n",
    "d2_b3 = (2.3, 3, 3)\n",
    "d2_b4 = (5.9, 8.7, 15)\n",
    "d2_b5 = (0, 3.4, 3.4)\n",
    "d2_b6 = (0, 1.2, 1.8)\n",
    "\n",
    "# dam2 cost\n",
    "d2_c1 = (12.8, 15.8, 20.1)\n",
    "d2_c2 = (3.8, 5.7, 8)\n",
    "\n",
    "\n",
    "#dam1 benefit params\n",
    "d2_benefit_params = [d2_b1, d2_b2, d2_b3, d2_b4, d2_b5, d2_b6]\n",
    "\n",
    "# dam1 cost params\n",
    "d2_cost_params = [d2_c1, d2_c2]\n"
   ]
  },
  {
   "cell_type": "markdown",
   "metadata": {
    "id": "-ELb9YW9iGo2"
   },
   "source": [
    "## Part1"
   ]
  },
  {
   "cell_type": "markdown",
   "metadata": {
    "id": "HOhDc9b8Tzi8"
   },
   "source": [
    "(i) Perform a simulation of 10,000 benefit-cost ratios for Dam #1 project and 10,000 such\n",
    "simulations for Dam #2 project. Note that the two simulations should be independent of each\n",
    "other. Let these two ratios be denoted by alpha1 and alpha2 for the dams 1 and 2 projects respectively."
   ]
  },
  {
   "cell_type": "code",
   "execution_count": 6,
   "metadata": {
    "id": "ZF128W7WTy27"
   },
   "outputs": [],
   "source": [
    "# Simulate 10,000 benefit-cost ratios for Dam 1\n",
    "ratios_dam1 = []\n",
    "benefits_dam1 = []\n",
    "costs_dam1 = []\n",
    "for i in range(10000):\n",
    "    benefits = np.array([np.random.triangular(*params) for params in d1_benefit_params])\n",
    "    costs = np.array([np.random.triangular(*params) for params in d1_cost_params])\n",
    "    ratio = benefits.sum() / costs.sum()\n",
    "    benefits_dam1.append(sum(benefits))\n",
    "    costs_dam1.append(sum(costs))\n",
    "    ratios_dam1.append(ratio)\n",
    "\n",
    "\n",
    "\n",
    "alpha1 = ratios_dam1"
   ]
  },
  {
   "cell_type": "code",
   "execution_count": 7,
   "metadata": {
    "id": "29HA2usnTSef"
   },
   "outputs": [],
   "source": [
    "# Simulate 10,000 benefit-cost ratios for Dam 1\n",
    "ratios_dam2 = []\n",
    "benefits_dam2 = []\n",
    "costs_dam2 = []\n",
    "for i in range(10000):\n",
    "    benefits = np.array([np.random.triangular(*params) for params in d2_benefit_params])\n",
    "    costs = np.array([np.random.triangular(*params) for params in d2_cost_params])\n",
    "    ratio = benefits.sum() / costs.sum()\n",
    "    benefits_dam2.append(sum(benefits))\n",
    "    costs_dam2.append(sum(costs))\n",
    "    ratios_dam2.append(ratio)\n",
    "\n",
    "alpha2 = ratios_dam2"
   ]
  },
  {
   "cell_type": "markdown",
   "metadata": {
    "id": "UAB8b6ztUCSu"
   },
   "source": [
    "(ii) Construct both a tabular and a graphical frequency distribution for alpha1 and alpha2 separately (a\n",
    "tabular and a graphical distribution for alpha1, and a tabular and a graphical distribution for alpha2 - a\n",
    "total of 4 distributions). In your report, include only the graphical distributions and comment on\n",
    "the shape of each distribution. "
   ]
  },
  {
   "cell_type": "code",
   "execution_count": 8,
   "metadata": {
    "colab": {
     "base_uri": "https://localhost:8080/"
    },
    "id": "T5rRDTdUSqt_",
    "outputId": "6a062c4f-ad0c-4697-da2a-ea67fd808e4c"
   },
   "outputs": [
    {
     "name": "stdout",
     "output_type": "stream",
     "text": [
      "             Frequency\n",
      "Alpha1 Bins           \n",
      "1.2                408\n",
      "1.4               3851\n",
      "1.6               4550\n",
      "1.8               1139\n",
      "2.0                 52\n"
     ]
    }
   ],
   "source": [
    "# tabular distribution for alpha1 (Benefit-cost ratio for Dam1 Project)\n",
    "# Tabular frequency distribution for alpha1\n",
    "alpha1_counts, alpha1_bins = np.histogram(alpha1, bins=5)\n",
    "alpha1_bins = np.round(alpha1_bins, 1)\n",
    "alpha1_df = pd.DataFrame({'Alpha1 Bins': alpha1_bins[1:], 'Frequency': alpha1_counts})\n",
    "alpha1_df.set_index('Alpha1 Bins', inplace=True)\n",
    "print(alpha1_df)"
   ]
  },
  {
   "cell_type": "code",
   "execution_count": 9,
   "metadata": {
    "colab": {
     "base_uri": "https://localhost:8080/",
     "height": 295
    },
    "id": "GuW8S1PlU6jT",
    "outputId": "20a14444-bb9b-438b-acba-85f88ccb48f2"
   },
   "outputs": [
    {
     "data": {
      "image/png": "[encoded data removed]",
      "text/plain": [
       "<Figure size 432x288 with 1 Axes>"
      ]
     },
     "metadata": {
      "needs_background": "light"
     },
     "output_type": "display_data"
    }
   ],
   "source": [
    "# Frequency distribution for alpha1\n",
    "plt.hist(alpha1, bins=200)\n",
    "plt.title(\"Frequency Distribution for Alpha1\")\n",
    "plt.xlabel(\"Alpha1 values\")\n",
    "plt.ylabel(\"Frequency\")\n",
    "plt.show()\n"
   ]
  },
  {
   "cell_type": "code",
   "execution_count": 10,
   "metadata": {
    "colab": {
     "base_uri": "https://localhost:8080/"
    },
    "id": "1JB8H3FxU3iT",
    "outputId": "f728ef06-af1c-4ca4-e177-521768c056b8"
   },
   "outputs": [
    {
     "name": "stdout",
     "output_type": "stream",
     "text": [
      "             Frequency\n",
      "Alpha2 Bins           \n",
      "0.9                  1\n",
      "0.9                  0\n",
      "0.9                  0\n",
      "0.9                  1\n",
      "1.0                  0\n",
      "...                ...\n",
      "2.1                  0\n",
      "2.1                  0\n",
      "2.1                  0\n",
      "2.1                  0\n",
      "2.1                  1\n",
      "\n",
      "[200 rows x 1 columns]\n"
     ]
    }
   ],
   "source": [
    "# Tabular frequency distribution for alpha2\n",
    "alpha2_counts, alpha2_bins = np.histogram(alpha2, bins=200)\n",
    "alpha2_bins = np.round(alpha2_bins, 1)\n",
    "alpha2_df = pd.DataFrame({'Alpha2 Bins': alpha2_bins[1:], 'Frequency': alpha2_counts})\n",
    "alpha2_df.set_index('Alpha2 Bins', inplace=True)\n",
    "print(alpha2_df)"
   ]
  },
  {
   "cell_type": "code",
   "execution_count": 11,
   "metadata": {
    "colab": {
     "base_uri": "https://localhost:8080/",
     "height": 295
    },
    "id": "WJa59fssU_uq",
    "outputId": "f39ffff5-c044-4f0a-84b1-e21ad40fe600"
   },
   "outputs": [
    {
     "data": {
      "image/png": "[encoded data removed]",
      "text/plain": [
       "<Figure size 432x288 with 1 Axes>"
      ]
     },
     "metadata": {
      "needs_background": "light"
     },
     "output_type": "display_data"
    }
   ],
   "source": [
    "# Frequency distribution for alpha2\n",
    "plt.hist(alpha2, bins=200)\n",
    "plt.title(\"Frequency Distribution for Alpha2\")\n",
    "plt.xlabel(\"Alpha2 values\")\n",
    "plt.ylabel(\"Frequency\")\n",
    "plt.show()"
   ]
  },
  {
   "cell_type": "markdown",
   "metadata": {
    "id": "hZWRYYNBVVsi"
   },
   "source": [
    "(iii) For each of the two dam projects, perform the necessary calculations in order to complete the\n",
    "following table. Excel users should create the table in Excel with all cells being occupied by the\n",
    "appropriate formulas, and R users should display the table as a “data frame”. Remember to\n",
    "create two such tables – one table for Dam #1 and another table for Dam #2. Include both\n",
    "tables in your report. "
   ]
  },
  {
   "cell_type": "code",
   "execution_count": 11,
   "metadata": {
    "id": "DBVYq3_cnJOR"
   },
   "outputs": [],
   "source": []
  },
  {
   "cell_type": "code",
   "execution_count": 12,
   "metadata": {
    "colab": {
     "base_uri": "https://localhost:8080/"
    },
    "id": "2X7LNZzjJTbi",
    "outputId": "c7465e7c-2c1e-4b2d-ddfa-1a44b068b306"
   },
   "outputs": [
    {
     "name": "stdout",
     "output_type": "stream",
     "text": [
      "Observed Mean of Total Benefits:  29.457158091636142\n",
      "Observed Std of Total Benefits:  2.307704178419516\n",
      "Observed Mean of Total Benefits:  20.77452804644154\n",
      "Observed Std of Total Benefits:  1.5146535021600234\n",
      "Observed Mean of Total Benefits:  1.4251734264650961\n",
      "Observed Std of Total Benefits:  0.14990895588507652\n",
      "Theoretical Mean of Total Benefits:  29.46666666666666\n",
      "Theoretical Std of Total Benefits:  1.1381746291135388\n",
      "Theoretical Mean of Total Costs:  20.766666666666666\n",
      "Theoretical Std of Total Costs:  5.116666666666667\n"
     ]
    }
   ],
   "source": [
    "# Observed Values for Dam1\n",
    "# Calculate the observed mean of total benefits\n",
    "observed_mean_benefits_dam1 = np.mean(benefits_dam1)\n",
    "observed_std_benefits_dam1 = np.std(benefits_dam1)\n",
    "observed_mean_costs_dam1 = np.mean(costs_dam1)\n",
    "observed_std_costs_dam1 = np.std(costs_dam1)\n",
    "observed_mean_bcr_dam1 = np.mean(alpha1)\n",
    "observed_std_bcr_dam1 = np.std(alpha1)\n",
    "\n",
    "\n",
    "\n",
    "# Calculate the theoretical mean of total benefits\n",
    "total_theoretical_benefits_dam1 = [np.mean(d1_b1), np.mean(d1_b2), np.mean(d1_b3), np.mean(d1_b4), np.mean(d1_b5), np.mean(d1_b6)]\n",
    "total_theoretical_costs_dam1 = [np.mean(d1_c1), np.mean(d1_c2)]\n",
    "theoretical_mean_benefits_dam1 = np.sum([np.mean(d1_b1), np.mean(d1_b2), np.mean(d1_b3), np.mean(d1_b4), np.mean(d1_b5), np.mean(d1_b6)])\n",
    "theoretical_std_benefits_dam1 = np.std([np.std(d1_b1), np.std(d1_b2),np.std(d1_b3), np.std(d1_b4), np.std(d1_b5), np.std(d1_b6)])\n",
    "theoretical_mean_costs_dam1 = np.sum([np.mean(d1_c1), np.mean(d1_c2)])\n",
    "theoretical_std_costs_dam1 = np.std(total_theoretical_costs_dam1)\n",
    "theoretical_mean_bcr_dam1 = \"\"\n",
    "theoretical_std_bcr_dam1 = \"\"\n",
    "\n",
    "# Print the results\n",
    "\n",
    "# observed values\n",
    "print(\"Observed Mean of Total Benefits: \", observed_mean_benefits_dam1)\n",
    "print(\"Observed Std of Total Benefits: \", observed_std_benefits_dam1)\n",
    "print(\"Observed Mean of Total Benefits: \", observed_mean_costs_dam1)\n",
    "print(\"Observed Std of Total Benefits: \", observed_std_costs_dam1)\n",
    "print(\"Observed Mean of Total Benefits: \", observed_mean_bcr_dam1)\n",
    "print(\"Observed Std of Total Benefits: \", observed_std_bcr_dam1)\n",
    "\n",
    "# theoretical values\n",
    "print(\"Theoretical Mean of Total Benefits: \", theoretical_mean_benefits_dam1)\n",
    "print(\"Theoretical Std of Total Benefits: \", theoretical_std_benefits_dam1)\n",
    "print(\"Theoretical Mean of Total Costs: \", theoretical_mean_costs_dam1)\n",
    "print(\"Theoretical Std of Total Costs: \", theoretical_std_costs_dam1)\n",
    "# print(\"Theoretical Mean of Total Benefits: \", observed_mean_benefits_dam1)\n",
    "# print(\"Theoretical Mean of Total Benefits: \", observed_mean_benefits_dam1)"
   ]
  },
  {
   "cell_type": "code",
   "execution_count": 13,
   "metadata": {
    "colab": {
     "base_uri": "https://localhost:8080/",
     "height": 237
    },
    "id": "EpGZb08xu7Hk",
    "outputId": "12e2ce7b-5e63-4e0c-d472-90c80a474e0f"
   },
   "outputs": [
    {
     "data": {
      "text/html": [
       "\n",
       "  <div id=\"df-e509640b-b09b-48e7-8eaa-ac38fc989560\">\n",
       "    <div class=\"colab-df-container\">\n",
       "      <div>\n",
       "<style scoped>\n",
       "    .dataframe tbody tr th:only-of-type {\n",
       "        vertical-align: middle;\n",
       "    }\n",
       "\n",
       "    .dataframe tbody tr th {\n",
       "        vertical-align: top;\n",
       "    }\n",
       "\n",
       "    .dataframe thead th {\n",
       "        text-align: right;\n",
       "    }\n",
       "</style>\n",
       "<table border=\"1\" class=\"dataframe\">\n",
       "  <thead>\n",
       "    <tr style=\"text-align: right;\">\n",
       "      <th></th>\n",
       "      <th>Dam1</th>\n",
       "      <th>Observed</th>\n",
       "      <th>Theoretical</th>\n",
       "    </tr>\n",
       "  </thead>\n",
       "  <tbody>\n",
       "    <tr>\n",
       "      <th>0</th>\n",
       "      <td>Mean of the Total Benefits</td>\n",
       "      <td>29.457158</td>\n",
       "      <td>29.466667</td>\n",
       "    </tr>\n",
       "    <tr>\n",
       "      <th>1</th>\n",
       "      <td>SD of the Total Benefits</td>\n",
       "      <td>2.307704</td>\n",
       "      <td>1.138175</td>\n",
       "    </tr>\n",
       "    <tr>\n",
       "      <th>2</th>\n",
       "      <td>Mean of the Total Cost</td>\n",
       "      <td>20.774528</td>\n",
       "      <td>20.766667</td>\n",
       "    </tr>\n",
       "    <tr>\n",
       "      <th>3</th>\n",
       "      <td>SD of the Total Cost</td>\n",
       "      <td>1.514654</td>\n",
       "      <td>5.116667</td>\n",
       "    </tr>\n",
       "    <tr>\n",
       "      <th>4</th>\n",
       "      <td>Mean of the Benefit-cost Ratio</td>\n",
       "      <td>1.425173</td>\n",
       "      <td></td>\n",
       "    </tr>\n",
       "    <tr>\n",
       "      <th>5</th>\n",
       "      <td>SD of the Benefit-cost Ratio</td>\n",
       "      <td>0.149909</td>\n",
       "      <td></td>\n",
       "    </tr>\n",
       "  </tbody>\n",
       "</table>\n",
       "</div>\n",
       "      <button class=\"colab-df-convert\" onclick=\"convertToInteractive('df-e509640b-b09b-48e7-8eaa-ac38fc989560')\"\n",
       "              title=\"Convert this dataframe to an interactive table.\"\n",
       "              style=\"display:none;\">\n",
       "        \n",
       "  <svg xmlns=\"http://www.w3.org/2000/svg\" height=\"24px\"viewBox=\"0 0 24 24\"\n",
       "       width=\"24px\">\n",
       "    <path d=\"M0 0h24v24H0V0z\" fill=\"none\"/>\n",
       "    <path d=\"M18.56 5.44l.94 2.06.94-2.06 2.06-.94-2.06-.94-.94-2.06-.94 2.06-2.06.94zm-11 1L8.5 8.5l.94-2.06 2.06-.94-2.06-.94L8.5 2.5l-.94 2.06-2.06.94zm10 10l.94 2.06.94-2.06 2.06-.94-2.06-.94-.94-2.06-.94 2.06-2.06.94z\"/><path d=\"M17.41 7.96l-1.37-1.37c-.4-.4-.92-.59-1.43-.59-.52 0-1.04.2-1.43.59L10.3 9.45l-7.72 7.72c-.78.78-.78 2.05 0 2.83L4 21.41c.39.39.9.59 1.41.59.51 0 1.02-.2 1.41-.59l7.78-7.78 2.81-2.81c.8-.78.8-2.07 0-2.86zM5.41 20L4 18.59l7.72-7.72 1.47 1.35L5.41 20z\"/>\n",
       "  </svg>\n",
       "      </button>\n",
       "      \n",
       "  <style>\n",
       "    .colab-df-container {\n",
       "      display:flex;\n",
       "      flex-wrap:wrap;\n",
       "      gap: 12px;\n",
       "    }\n",
       "\n",
       "    .colab-df-convert {\n",
       "      background-color: #E8F0FE;\n",
       "      border: none;\n",
       "      border-radius: 50%;\n",
       "      cursor: pointer;\n",
       "      display: none;\n",
       "      fill: #1967D2;\n",
       "      height: 32px;\n",
       "      padding: 0 0 0 0;\n",
       "      width: 32px;\n",
       "    }\n",
       "\n",
       "    .colab-df-convert:hover {\n",
       "      background-color: #E2EBFA;\n",
       "      box-shadow: 0px 1px 2px rgba(60, 64, 67, 0.3), 0px 1px 3px 1px rgba(60, 64, 67, 0.15);\n",
       "      fill: #174EA6;\n",
       "    }\n",
       "\n",
       "    [theme=dark] .colab-df-convert {\n",
       "      background-color: #3B4455;\n",
       "      fill: #D2E3FC;\n",
       "    }\n",
       "\n",
       "    [theme=dark] .colab-df-convert:hover {\n",
       "      background-color: #434B5C;\n",
       "      box-shadow: 0px 1px 3px 1px rgba(0, 0, 0, 0.15);\n",
       "      filter: drop-shadow(0px 1px 2px rgba(0, 0, 0, 0.3));\n",
       "      fill: #FFFFFF;\n",
       "    }\n",
       "  </style>\n",
       "\n",
       "      <script>\n",
       "        const buttonEl =\n",
       "          document.querySelector('#df-e509640b-b09b-48e7-8eaa-ac38fc989560 button.colab-df-convert');\n",
       "        buttonEl.style.display =\n",
       "          google.colab.kernel.accessAllowed ? 'block' : 'none';\n",
       "\n",
       "        async function convertToInteractive(key) {\n",
       "          const element = document.querySelector('#df-e509640b-b09b-48e7-8eaa-ac38fc989560');\n",
       "          const dataTable =\n",
       "            await google.colab.kernel.invokeFunction('convertToInteractive',\n",
       "                                                     [key], {});\n",
       "          if (!dataTable) return;\n",
       "\n",
       "          const docLinkHtml = 'Like what you see? Visit the ' +\n",
       "            '<a target=\"_blank\" href=https://colab.research.google.com/notebooks/data_table.ipynb>data table notebook</a>'\n",
       "            + ' to learn more about interactive tables.';\n",
       "          element.innerHTML = '';\n",
       "          dataTable['output_type'] = 'display_data';\n",
       "          await google.colab.output.renderOutput(dataTable, element);\n",
       "          const docLink = document.createElement('div');\n",
       "          docLink.innerHTML = docLinkHtml;\n",
       "          element.appendChild(docLink);\n",
       "        }\n",
       "      </script>\n",
       "    </div>\n",
       "  </div>\n",
       "  "
      ],
      "text/plain": [
       "                             Dam1   Observed Theoretical\n",
       "0      Mean of the Total Benefits  29.457158   29.466667\n",
       "1        SD of the Total Benefits   2.307704    1.138175\n",
       "2          Mean of the Total Cost  20.774528   20.766667\n",
       "3           SD of the Total Cost    1.514654    5.116667\n",
       "4  Mean of the Benefit-cost Ratio   1.425173            \n",
       "5    SD of the Benefit-cost Ratio   0.149909            "
      ]
     },
     "execution_count": 13,
     "metadata": {},
     "output_type": "execute_result"
    }
   ],
   "source": [
    "dam1_benefit_cost_stats = pd.DataFrame({'Dam1': [\"Mean of the Total Benefits\",      \n",
    "\"SD of the Total Benefits\",      \n",
    "\"Mean of the Total Cost\",        \n",
    "\"SD of the Total Cost \",       \n",
    "\"Mean of the Benefit-cost Ratio\",   \n",
    "\"SD of the Benefit-cost Ratio\"]  , \n",
    "'Observed' : [observed_mean_benefits_dam1,\n",
    "observed_std_benefits_dam1,\n",
    "observed_mean_costs_dam1 ,\n",
    "observed_std_costs_dam1,\n",
    "observed_mean_bcr_dam1,\n",
    "observed_std_bcr_dam1], \n",
    "'Theoretical':[theoretical_mean_benefits_dam1,\n",
    "theoretical_std_benefits_dam1,\n",
    "theoretical_mean_costs_dam1 ,\n",
    "theoretical_std_costs_dam1,\n",
    "theoretical_mean_bcr_dam1,\n",
    "theoretical_std_bcr_dam1]})\n",
    "\n",
    "dam1_benefit_cost_stats"
   ]
  },
  {
   "cell_type": "code",
   "execution_count": 14,
   "metadata": {
    "colab": {
     "base_uri": "https://localhost:8080/"
    },
    "id": "_M1E5vRat1El",
    "outputId": "aaead1ee-f127-482e-a7c3-f03ca59b0847"
   },
   "outputs": [
    {
     "name": "stdout",
     "output_type": "stream",
     "text": [
      "Observed Mean of Total Benefits:  30.716282973153255\n",
      "Observed Std of Total Benefits:  2.4120095019091106\n",
      "Observed Mean of Total Benefits:  22.06374387123461\n",
      "Observed Std of Total Benefits:  1.7475463242094935\n",
      "Observed Mean of Total Benefits:  1.4251734264650961\n",
      "Observed Std of Total Benefits:  0.14990895588507652\n",
      "Theoretical Mean of Total Benefits:  30.7\n",
      "Theoretical Std of Total Benefits:  9.66988293117672\n",
      "Theoretical Mean of Total Costs:  22.066666666666666\n",
      "Theoretical Std of Total Costs:  5.2\n"
     ]
    }
   ],
   "source": [
    "# Observed Values for Dam2\n",
    "# Calculate the observed mean of total benefits\n",
    "observed_mean_benefits_dam2 = np.mean(benefits_dam2)\n",
    "observed_std_benefits_dam2 = np.std(benefits_dam2)\n",
    "observed_mean_costs_dam2 = np.mean(costs_dam2)\n",
    "observed_std_costs_dam2 = np.std(costs_dam2)\n",
    "observed_mean_bcr_dam2 = np.mean(alpha1)\n",
    "observed_std_bcr_dam2 = np.std(alpha1)\n",
    "\n",
    "\n",
    "\n",
    "# Calculate the theoretical mean of total benefits\n",
    "total_theoretical_benefits_dam2 = [np.mean(d2_b1), np.mean(d2_b2), np.mean(d2_b3), np.mean(d2_b4), np.mean(d2_b5), np.mean(d2_b6)]\n",
    "total_theoretical_costs_dam2 = [np.mean(d2_c1), np.mean(d2_c2)]\n",
    "theoretical_mean_benefits_dam2 = np.sum([np.mean(d2_b1), np.mean(d2_b2), np.mean(d2_b3), np.mean(d2_b4), np.mean(d2_b5), np.mean(d2_b6)])\n",
    "theoretical_std_benefits_dam2 = np.sum([np.std(d2_b1), np.std(d2_b2),np.std(d2_b3), np.std(d2_b4), np.std(d2_b5), np.std(d2_b6)])\n",
    "theoretical_mean_costs_dam2 = np.sum([np.mean(d2_c1), np.mean(d2_c2)])\n",
    "theoretical_std_costs_dam2 = np.std(total_theoretical_costs_dam2)\n",
    "theoretical_mean_bcr_dam2 = \"\"\n",
    "theoretical_std_bcr_dam2 = \"\"\n",
    "\n",
    "# Print the results\n",
    "\n",
    "# observed values\n",
    "print(\"Observed Mean of Total Benefits: \", observed_mean_benefits_dam2)\n",
    "print(\"Observed Std of Total Benefits: \", observed_std_benefits_dam2)\n",
    "print(\"Observed Mean of Total Benefits: \", observed_mean_costs_dam2)\n",
    "print(\"Observed Std of Total Benefits: \", observed_std_costs_dam2)\n",
    "print(\"Observed Mean of Total Benefits: \", observed_mean_bcr_dam2)\n",
    "print(\"Observed Std of Total Benefits: \", observed_std_bcr_dam2)\n",
    "\n",
    "# theoretical values\n",
    "print(\"Theoretical Mean of Total Benefits: \", theoretical_mean_benefits_dam2)\n",
    "print(\"Theoretical Std of Total Benefits: \", theoretical_std_benefits_dam2)\n",
    "print(\"Theoretical Mean of Total Costs: \", theoretical_mean_costs_dam2)\n",
    "print(\"Theoretical Std of Total Costs: \", theoretical_std_costs_dam2)\n",
    "# print(\"Theoretical Mean of Total Benefits: \", observed_mean_benefits_dam2)\n",
    "# print(\"Theoretical Mean of Total Benefits: \", observed_mean_benefits_dam2)"
   ]
  },
  {
   "cell_type": "code",
   "execution_count": 15,
   "metadata": {
    "colab": {
     "base_uri": "https://localhost:8080/",
     "height": 237
    },
    "id": "yq04SohbgXMC",
    "outputId": "dd761b54-c05d-4aff-8f2c-a5b5dbe8e7eb"
   },
   "outputs": [
    {
     "data": {
      "text/html": [
       "\n",
       "  <div id=\"df-fd355bd7-be5b-4f3b-8e3b-8fdb6dc1d2d0\">\n",
       "    <div class=\"colab-df-container\">\n",
       "      <div>\n",
       "<style scoped>\n",
       "    .dataframe tbody tr th:only-of-type {\n",
       "        vertical-align: middle;\n",
       "    }\n",
       "\n",
       "    .dataframe tbody tr th {\n",
       "        vertical-align: top;\n",
       "    }\n",
       "\n",
       "    .dataframe thead th {\n",
       "        text-align: right;\n",
       "    }\n",
       "</style>\n",
       "<table border=\"1\" class=\"dataframe\">\n",
       "  <thead>\n",
       "    <tr style=\"text-align: right;\">\n",
       "      <th></th>\n",
       "      <th>Dam2</th>\n",
       "      <th>Observed</th>\n",
       "      <th>Theoretical</th>\n",
       "    </tr>\n",
       "  </thead>\n",
       "  <tbody>\n",
       "    <tr>\n",
       "      <th>0</th>\n",
       "      <td>Mean of the Total Benefits</td>\n",
       "      <td>30.716283</td>\n",
       "      <td>30.7</td>\n",
       "    </tr>\n",
       "    <tr>\n",
       "      <th>1</th>\n",
       "      <td>SD of the Total Benefits</td>\n",
       "      <td>2.412010</td>\n",
       "      <td>9.669883</td>\n",
       "    </tr>\n",
       "    <tr>\n",
       "      <th>2</th>\n",
       "      <td>Mean of the Total Cost</td>\n",
       "      <td>22.063744</td>\n",
       "      <td>22.066667</td>\n",
       "    </tr>\n",
       "    <tr>\n",
       "      <th>3</th>\n",
       "      <td>SD of the Total Cost</td>\n",
       "      <td>1.747546</td>\n",
       "      <td>5.2</td>\n",
       "    </tr>\n",
       "    <tr>\n",
       "      <th>4</th>\n",
       "      <td>Mean of the Benefit-cost Ratio</td>\n",
       "      <td>1.425173</td>\n",
       "      <td></td>\n",
       "    </tr>\n",
       "    <tr>\n",
       "      <th>5</th>\n",
       "      <td>SD of the Benefit-cost Ratio</td>\n",
       "      <td>0.149909</td>\n",
       "      <td></td>\n",
       "    </tr>\n",
       "  </tbody>\n",
       "</table>\n",
       "</div>\n",
       "      <button class=\"colab-df-convert\" onclick=\"convertToInteractive('df-fd355bd7-be5b-4f3b-8e3b-8fdb6dc1d2d0')\"\n",
       "              title=\"Convert this dataframe to an interactive table.\"\n",
       "              style=\"display:none;\">\n",
       "        \n",
       "  <svg xmlns=\"http://www.w3.org/2000/svg\" height=\"24px\"viewBox=\"0 0 24 24\"\n",
       "       width=\"24px\">\n",
       "    <path d=\"M0 0h24v24H0V0z\" fill=\"none\"/>\n",
       "    <path d=\"M18.56 5.44l.94 2.06.94-2.06 2.06-.94-2.06-.94-.94-2.06-.94 2.06-2.06.94zm-11 1L8.5 8.5l.94-2.06 2.06-.94-2.06-.94L8.5 2.5l-.94 2.06-2.06.94zm10 10l.94 2.06.94-2.06 2.06-.94-2.06-.94-.94-2.06-.94 2.06-2.06.94z\"/><path d=\"M17.41 7.96l-1.37-1.37c-.4-.4-.92-.59-1.43-.59-.52 0-1.04.2-1.43.59L10.3 9.45l-7.72 7.72c-.78.78-.78 2.05 0 2.83L4 21.41c.39.39.9.59 1.41.59.51 0 1.02-.2 1.41-.59l7.78-7.78 2.81-2.81c.8-.78.8-2.07 0-2.86zM5.41 20L4 18.59l7.72-7.72 1.47 1.35L5.41 20z\"/>\n",
       "  </svg>\n",
       "      </button>\n",
       "      \n",
       "  <style>\n",
       "    .colab-df-container {\n",
       "      display:flex;\n",
       "      flex-wrap:wrap;\n",
       "      gap: 12px;\n",
       "    }\n",
       "\n",
       "    .colab-df-convert {\n",
       "      background-color: #E8F0FE;\n",
       "      border: none;\n",
       "      border-radius: 50%;\n",
       "      cursor: pointer;\n",
       "      display: none;\n",
       "      fill: #1967D2;\n",
       "      height: 32px;\n",
       "      padding: 0 0 0 0;\n",
       "      width: 32px;\n",
       "    }\n",
       "\n",
       "    .colab-df-convert:hover {\n",
       "      background-color: #E2EBFA;\n",
       "      box-shadow: 0px 1px 2px rgba(60, 64, 67, 0.3), 0px 1px 3px 1px rgba(60, 64, 67, 0.15);\n",
       "      fill: #174EA6;\n",
       "    }\n",
       "\n",
       "    [theme=dark] .colab-df-convert {\n",
       "      background-color: #3B4455;\n",
       "      fill: #D2E3FC;\n",
       "    }\n",
       "\n",
       "    [theme=dark] .colab-df-convert:hover {\n",
       "      background-color: #434B5C;\n",
       "      box-shadow: 0px 1px 3px 1px rgba(0, 0, 0, 0.15);\n",
       "      filter: drop-shadow(0px 1px 2px rgba(0, 0, 0, 0.3));\n",
       "      fill: #FFFFFF;\n",
       "    }\n",
       "  </style>\n",
       "\n",
       "      <script>\n",
       "        const buttonEl =\n",
       "          document.querySelector('#df-fd355bd7-be5b-4f3b-8e3b-8fdb6dc1d2d0 button.colab-df-convert');\n",
       "        buttonEl.style.display =\n",
       "          google.colab.kernel.accessAllowed ? 'block' : 'none';\n",
       "\n",
       "        async function convertToInteractive(key) {\n",
       "          const element = document.querySelector('#df-fd355bd7-be5b-4f3b-8e3b-8fdb6dc1d2d0');\n",
       "          const dataTable =\n",
       "            await google.colab.kernel.invokeFunction('convertToInteractive',\n",
       "                                                     [key], {});\n",
       "          if (!dataTable) return;\n",
       "\n",
       "          const docLinkHtml = 'Like what you see? Visit the ' +\n",
       "            '<a target=\"_blank\" href=https://colab.research.google.com/notebooks/data_table.ipynb>data table notebook</a>'\n",
       "            + ' to learn more about interactive tables.';\n",
       "          element.innerHTML = '';\n",
       "          dataTable['output_type'] = 'display_data';\n",
       "          await google.colab.output.renderOutput(dataTable, element);\n",
       "          const docLink = document.createElement('div');\n",
       "          docLink.innerHTML = docLinkHtml;\n",
       "          element.appendChild(docLink);\n",
       "        }\n",
       "      </script>\n",
       "    </div>\n",
       "  </div>\n",
       "  "
      ],
      "text/plain": [
       "                             Dam2   Observed Theoretical\n",
       "0      Mean of the Total Benefits  30.716283        30.7\n",
       "1        SD of the Total Benefits   2.412010    9.669883\n",
       "2          Mean of the Total Cost  22.063744   22.066667\n",
       "3           SD of the Total Cost    1.747546         5.2\n",
       "4  Mean of the Benefit-cost Ratio   1.425173            \n",
       "5    SD of the Benefit-cost Ratio   0.149909            "
      ]
     },
     "execution_count": 15,
     "metadata": {},
     "output_type": "execute_result"
    }
   ],
   "source": [
    "dam2_benefit_cost_stats = pd.DataFrame({'Dam2': [\"Mean of the Total Benefits\",      \n",
    "\"SD of the Total Benefits\",      \n",
    "\"Mean of the Total Cost\",        \n",
    "\"SD of the Total Cost \",       \n",
    "\"Mean of the Benefit-cost Ratio\",   \n",
    "\"SD of the Benefit-cost Ratio\"]  , \n",
    "'Observed' : [observed_mean_benefits_dam2,\n",
    "observed_std_benefits_dam2,\n",
    "observed_mean_costs_dam2 ,\n",
    "observed_std_costs_dam2,\n",
    "observed_mean_bcr_dam2,\n",
    "observed_std_bcr_dam2], \n",
    "'Theoretical':[theoretical_mean_benefits_dam2,\n",
    "theoretical_std_benefits_dam2,\n",
    "theoretical_mean_costs_dam2 ,\n",
    "theoretical_std_costs_dam2,\n",
    "theoretical_mean_bcr_dam2,\n",
    "theoretical_std_bcr_dam2]})\n",
    "\n",
    "dam2_benefit_cost_stats\n"
   ]
  },
  {
   "cell_type": "markdown",
   "metadata": {
    "id": "qABf9SrM8fPt"
   },
   "source": [
    "## Part 2:\n",
    "\n",
    "Use your observation in Question (ii) of Part 1 to select a theoretical probability distribution that, in your\n",
    "judgement, is a good fit for the distribution of alpha1\". Next, use the Chi-squared Goodness-of-fit test to\n",
    "verify whether your selected distribution was a good fit for the distribution of alpha2\". Describe the rational\n",
    "for your choice of the probability distribution and a description of the outcomes of your Chi-squared test\n",
    "in your report. In particular, indicate the values of the Chi-squared test statistic and the P-value of your\n",
    "test in your report, and interpret those values. "
   ]
  },
  {
   "cell_type": "code",
   "execution_count": 16,
   "metadata": {
    "id": "fUpKcj2H-Xgo"
   },
   "outputs": [],
   "source": [
    "d1_data = pd.DataFrame({\"Benefits\": benefits_dam1,\n",
    "                        \"Costs\": costs_dam1,\n",
    "                        \"alpha1\": alpha1})\n",
    "\n",
    "d2_data = pd.DataFrame({\"Benefits\": benefits_dam2,\n",
    "                        \"Costs\": costs_dam2,\n",
    "                        \"alpha2\": alpha2})\n"
   ]
  },
  {
   "cell_type": "code",
   "execution_count": 17,
   "metadata": {
    "id": "b-PfG6-yBBKZ"
   },
   "outputs": [],
   "source": [
    "from scipy.stats import chi2, chisquare\n",
    "\n",
    "# Define the theoretical distribution\n",
    "def theoretical_distribution(x, df, loc, scale):\n",
    "    return chi2.pdf(x, df, loc, scale)"
   ]
  },
  {
   "cell_type": "code",
   "execution_count": 18,
   "metadata": {
    "colab": {
     "base_uri": "https://localhost:8080/"
    },
    "id": "Me4vAmsg-Nti",
    "outputId": "dee19d64-534a-4eca-9c8d-f2ab0a5dc6ed"
   },
   "outputs": [
    {
     "name": "stdout",
     "output_type": "stream",
     "text": [
      "Results of chi-squared goodness-of-fit test for alpha1:\n",
      "Chi-squared statistic: 1135.7209177341688\n",
      "P-value: 9.08276269442646e-239\n",
      "Results of chi-squared goodness-of-fit test for alpha2:\n",
      "Chi-squared statistic: 3821.196105403835\n",
      "P-value: 0.0\n"
     ]
    }
   ],
   "source": [
    "from scipy.stats import gamma\n",
    "\n",
    "# Fit a gamma distribution to alpha1\n",
    "shape1, loc1, scale1 = gamma.fit(d1_data[\"alpha1\"])\n",
    "\n",
    "# Generate 10,000 random numbers from the gamma distribution with the estimated parameters\n",
    "simulated_alpha1 = gamma.rvs(shape1, loc=loc1, scale=scale1, size=10000)\n",
    "\n",
    "# Conduct a chi-squared goodness-of-fit test to compare the observed and simulated alpha1 values\n",
    "observed_freq1, _ = np.histogram(alpha1, bins=10)\n",
    "expected_freq1, _ = np.histogram(simulated_alpha1, bins=10)\n",
    "chi2_statistic1, p_value1 = chisquare(observed_freq1, f_exp=expected_freq1)\n",
    "\n",
    "# Print the results of the goodness-of-fit test for alpha1\n",
    "print(\"Results of chi-squared goodness-of-fit test for alpha1:\")\n",
    "print(\"Chi-squared statistic:\", chi2_statistic1)\n",
    "print(\"P-value:\", p_value1)\n",
    "\n",
    "# Fit a gamma distribution to alpha2\n",
    "shape2, loc2, scale2 = gamma.fit(alpha2)\n",
    "\n",
    "# Generate 10,000 random numbers from the gamma distribution with the estimated parameters\n",
    "simulated_alpha2 = gamma.rvs(shape2, loc=loc2, scale=scale2, size=10000)\n",
    "\n",
    "# Conduct a chi-squared goodness-of-fit test to compare the observed and simulated alpha2 values\n",
    "observed_freq2, _ = np.histogram(alpha2, bins=10)\n",
    "expected_freq2, _ = np.histogram(simulated_alpha2, bins=10)\n",
    "chi2_statistic2, p_value2 = chisquare(observed_freq2, f_exp=expected_freq2)\n",
    "\n",
    "# Print the results of the goodness-of-fit test for alpha2\n",
    "print(\"Results of chi-squared goodness-of-fit test for alpha2:\")\n",
    "print(\"Chi-squared statistic:\", chi2_statistic2)\n",
    "print(\"P-value:\", p_value2)"
   ]
  },
  {
   "cell_type": "markdown",
   "metadata": {
    "id": "fzf1eAcYC73Z"
   },
   "source": [
    "From the given  Null: there is no evidence that the data for alpha1 does not come from a Beta distribution with the estimated parameters."
   ]
  },
  {
   "cell_type": "code",
   "execution_count": 19,
   "metadata": {
    "colab": {
     "base_uri": "https://localhost:8080/"
    },
    "id": "qSF18k_pAeYt",
    "outputId": "ed56310b-d250-4acf-f73a-0c778dab70b9"
   },
   "outputs": [
    {
     "name": "stdout",
     "output_type": "stream",
     "text": [
      "Critical value: 16.918977604620448\n",
      "Reject the null hypothesis for alpha1 since chi2_statistic greater than critical value\n",
      "Reject the null hypothesis for alpha1 since pvalue less than critical value\n",
      "Reject the null hypothesis for alpha2 since chi2_statistic greater than critical value\n",
      "Reject the null hypothesis for alpha2 since pvalue less than critical value\n"
     ]
    }
   ],
   "source": [
    "# Set the significance level alpha\n",
    "alpha = 0.05\n",
    "\n",
    "# Set the degrees of freedom\n",
    "df = 9\n",
    "\n",
    "# Define the critical value for the chi-squared distribution\n",
    "critical_value = chi2.ppf(q=1-alpha, df=df)\n",
    "\n",
    "# Print the critical value\n",
    "print(\"Critical value:\", critical_value)\n",
    "\n",
    "# Print the results of the hypothesis test for alpha1\n",
    "if chi2_statistic1 > critical_value:\n",
    "    print(\"Reject the null hypothesis for alpha1 since chi2_statistic greater than critical value\")\n",
    "else:\n",
    "    print(\"Fail to reject the null hypothesis for alpha1 since chi2_statistic less than critical value\")\n",
    "\n",
    "if p_value1 < alpha:\n",
    "    print(\"Reject the null hypothesis for alpha1 since pvalue less than critical value\")\n",
    "else:\n",
    "    print(\"Fail to reject the null hypothesis for alpha1 since pvalue greater than critical value\")\n",
    "\n",
    "# Print the results of the hypothesis test for alpha2\n",
    "if chi2_statistic2 > critical_value:\n",
    "    print(\"Reject the null hypothesis for alpha2 since chi2_statistic greater than critical value\")\n",
    "else:\n",
    "    print(\"Fail to reject the null hypothesis for alpha2 since chi2_statistic less than critical value\")\n",
    "\n",
    "if p_value2 < alpha:\n",
    "    print(\"Reject the null hypothesis for alpha2 since pvalue less than critical value\")\n",
    "else:\n",
    "    print(\"Fail to reject the null hypothesis for alpha2 since pvalue greater than critical value\")"
   ]
  },
  {
   "cell_type": "markdown",
   "metadata": {
    "id": "8jV3_PvIEWz_"
   },
   "source": [
    "Since we reject the null hypothesis we can say that observed data does not comes from a population that follows a specific theoretical distribution"
   ]
  },
  {
   "cell_type": "markdown",
   "metadata": {
    "id": "hJuKI1t8ElXf"
   },
   "source": [
    "## Part3:\n",
    "\n",
    "Use the results of your simulations and perform the necessary calculations in order to complete the\n",
    "table below. Excel users should create the table in Excel with all cells being occupied by the\n",
    "appropriate formulas, and R users should display the table as a “data frame”. Include the completed\n",
    "table in your report."
   ]
  },
  {
   "cell_type": "code",
   "execution_count": 20,
   "metadata": {
    "colab": {
     "base_uri": "https://localhost:8080/",
     "height": 425
    },
    "id": "7xqecFnYDpYJ",
    "outputId": "96f878b8-468d-4a9e-87cc-427150166958"
   },
   "outputs": [
    {
     "data": {
      "text/html": [
       "\n",
       "  <div id=\"df-5cc27e34-3b30-4175-b9dd-55013d349350\">\n",
       "    <div class=\"colab-df-container\">\n",
       "      <div>\n",
       "<style scoped>\n",
       "    .dataframe tbody tr th:only-of-type {\n",
       "        vertical-align: middle;\n",
       "    }\n",
       "\n",
       "    .dataframe tbody tr th {\n",
       "        vertical-align: top;\n",
       "    }\n",
       "\n",
       "    .dataframe thead th {\n",
       "        text-align: right;\n",
       "    }\n",
       "</style>\n",
       "<table border=\"1\" class=\"dataframe\">\n",
       "  <thead>\n",
       "    <tr style=\"text-align: right;\">\n",
       "      <th></th>\n",
       "      <th>Metric</th>\n",
       "      <th>alpha1</th>\n",
       "      <th>alpha2</th>\n",
       "      <th>alpha1&gt;alpha2</th>\n",
       "    </tr>\n",
       "  </thead>\n",
       "  <tbody>\n",
       "    <tr>\n",
       "      <th>0</th>\n",
       "      <td>Minimum</td>\n",
       "      <td>0.958568</td>\n",
       "      <td>0.924615</td>\n",
       "      <td>True</td>\n",
       "    </tr>\n",
       "    <tr>\n",
       "      <th>1</th>\n",
       "      <td>Maximum</td>\n",
       "      <td>2.039342</td>\n",
       "      <td>2.078373</td>\n",
       "      <td>False</td>\n",
       "    </tr>\n",
       "    <tr>\n",
       "      <th>2</th>\n",
       "      <td>Mean</td>\n",
       "      <td>1.425173</td>\n",
       "      <td>1.400956</td>\n",
       "      <td>True</td>\n",
       "    </tr>\n",
       "    <tr>\n",
       "      <th>3</th>\n",
       "      <td>Median</td>\n",
       "      <td>1.418859</td>\n",
       "      <td>1.389496</td>\n",
       "      <td>True</td>\n",
       "    </tr>\n",
       "    <tr>\n",
       "      <th>4</th>\n",
       "      <td>Variance</td>\n",
       "      <td>0.022473</td>\n",
       "      <td>0.024631</td>\n",
       "      <td>False</td>\n",
       "    </tr>\n",
       "    <tr>\n",
       "      <th>5</th>\n",
       "      <td>Standard Deviation</td>\n",
       "      <td>0.149909</td>\n",
       "      <td>0.156943</td>\n",
       "      <td>False</td>\n",
       "    </tr>\n",
       "    <tr>\n",
       "      <th>6</th>\n",
       "      <td>SKEWNESS</td>\n",
       "      <td>57.033068</td>\n",
       "      <td>78.629381</td>\n",
       "      <td>False</td>\n",
       "    </tr>\n",
       "    <tr>\n",
       "      <th>7</th>\n",
       "      <td>P(𝛂i &gt; 2)</td>\n",
       "      <td>0.000200</td>\n",
       "      <td>0.000300</td>\n",
       "      <td>False</td>\n",
       "    </tr>\n",
       "    <tr>\n",
       "      <th>8</th>\n",
       "      <td>P(𝛂i &gt; 1.8)</td>\n",
       "      <td>0.007900</td>\n",
       "      <td>0.009400</td>\n",
       "      <td>False</td>\n",
       "    </tr>\n",
       "    <tr>\n",
       "      <th>9</th>\n",
       "      <td>P(𝛂i &gt; 1.5)</td>\n",
       "      <td>0.298600</td>\n",
       "      <td>0.259600</td>\n",
       "      <td>True</td>\n",
       "    </tr>\n",
       "    <tr>\n",
       "      <th>10</th>\n",
       "      <td>P(𝛂i &gt; 1.2)</td>\n",
       "      <td>0.941400</td>\n",
       "      <td>0.907900</td>\n",
       "      <td>True</td>\n",
       "    </tr>\n",
       "    <tr>\n",
       "      <th>11</th>\n",
       "      <td>P(𝛂i &gt; 1)</td>\n",
       "      <td>0.999500</td>\n",
       "      <td>0.998700</td>\n",
       "      <td>True</td>\n",
       "    </tr>\n",
       "  </tbody>\n",
       "</table>\n",
       "</div>\n",
       "      <button class=\"colab-df-convert\" onclick=\"convertToInteractive('df-5cc27e34-3b30-4175-b9dd-55013d349350')\"\n",
       "              title=\"Convert this dataframe to an interactive table.\"\n",
       "              style=\"display:none;\">\n",
       "        \n",
       "  <svg xmlns=\"http://www.w3.org/2000/svg\" height=\"24px\"viewBox=\"0 0 24 24\"\n",
       "       width=\"24px\">\n",
       "    <path d=\"M0 0h24v24H0V0z\" fill=\"none\"/>\n",
       "    <path d=\"M18.56 5.44l.94 2.06.94-2.06 2.06-.94-2.06-.94-.94-2.06-.94 2.06-2.06.94zm-11 1L8.5 8.5l.94-2.06 2.06-.94-2.06-.94L8.5 2.5l-.94 2.06-2.06.94zm10 10l.94 2.06.94-2.06 2.06-.94-2.06-.94-.94-2.06-.94 2.06-2.06.94z\"/><path d=\"M17.41 7.96l-1.37-1.37c-.4-.4-.92-.59-1.43-.59-.52 0-1.04.2-1.43.59L10.3 9.45l-7.72 7.72c-.78.78-.78 2.05 0 2.83L4 21.41c.39.39.9.59 1.41.59.51 0 1.02-.2 1.41-.59l7.78-7.78 2.81-2.81c.8-.78.8-2.07 0-2.86zM5.41 20L4 18.59l7.72-7.72 1.47 1.35L5.41 20z\"/>\n",
       "  </svg>\n",
       "      </button>\n",
       "      \n",
       "  <style>\n",
       "    .colab-df-container {\n",
       "      display:flex;\n",
       "      flex-wrap:wrap;\n",
       "      gap: 12px;\n",
       "    }\n",
       "\n",
       "    .colab-df-convert {\n",
       "      background-color: #E8F0FE;\n",
       "      border: none;\n",
       "      border-radius: 50%;\n",
       "      cursor: pointer;\n",
       "      display: none;\n",
       "      fill: #1967D2;\n",
       "      height: 32px;\n",
       "      padding: 0 0 0 0;\n",
       "      width: 32px;\n",
       "    }\n",
       "\n",
       "    .colab-df-convert:hover {\n",
       "      background-color: #E2EBFA;\n",
       "      box-shadow: 0px 1px 2px rgba(60, 64, 67, 0.3), 0px 1px 3px 1px rgba(60, 64, 67, 0.15);\n",
       "      fill: #174EA6;\n",
       "    }\n",
       "\n",
       "    [theme=dark] .colab-df-convert {\n",
       "      background-color: #3B4455;\n",
       "      fill: #D2E3FC;\n",
       "    }\n",
       "\n",
       "    [theme=dark] .colab-df-convert:hover {\n",
       "      background-color: #434B5C;\n",
       "      box-shadow: 0px 1px 3px 1px rgba(0, 0, 0, 0.15);\n",
       "      filter: drop-shadow(0px 1px 2px rgba(0, 0, 0, 0.3));\n",
       "      fill: #FFFFFF;\n",
       "    }\n",
       "  </style>\n",
       "\n",
       "      <script>\n",
       "        const buttonEl =\n",
       "          document.querySelector('#df-5cc27e34-3b30-4175-b9dd-55013d349350 button.colab-df-convert');\n",
       "        buttonEl.style.display =\n",
       "          google.colab.kernel.accessAllowed ? 'block' : 'none';\n",
       "\n",
       "        async function convertToInteractive(key) {\n",
       "          const element = document.querySelector('#df-5cc27e34-3b30-4175-b9dd-55013d349350');\n",
       "          const dataTable =\n",
       "            await google.colab.kernel.invokeFunction('convertToInteractive',\n",
       "                                                     [key], {});\n",
       "          if (!dataTable) return;\n",
       "\n",
       "          const docLinkHtml = 'Like what you see? Visit the ' +\n",
       "            '<a target=\"_blank\" href=https://colab.research.google.com/notebooks/data_table.ipynb>data table notebook</a>'\n",
       "            + ' to learn more about interactive tables.';\n",
       "          element.innerHTML = '';\n",
       "          dataTable['output_type'] = 'display_data';\n",
       "          await google.colab.output.renderOutput(dataTable, element);\n",
       "          const docLink = document.createElement('div');\n",
       "          docLink.innerHTML = docLinkHtml;\n",
       "          element.appendChild(docLink);\n",
       "        }\n",
       "      </script>\n",
       "    </div>\n",
       "  </div>\n",
       "  "
      ],
      "text/plain": [
       "                Metric     alpha1     alpha2  alpha1>alpha2\n",
       "0              Minimum   0.958568   0.924615           True\n",
       "1              Maximum   2.039342   2.078373          False\n",
       "2                 Mean   1.425173   1.400956           True\n",
       "3               Median   1.418859   1.389496           True\n",
       "4             Variance   0.022473   0.024631          False\n",
       "5   Standard Deviation   0.149909   0.156943          False\n",
       "6             SKEWNESS  57.033068  78.629381          False\n",
       "7            P(𝛂i > 2)   0.000200   0.000300          False\n",
       "8          P(𝛂i > 1.8)   0.007900   0.009400          False\n",
       "9          P(𝛂i > 1.5)   0.298600   0.259600           True\n",
       "10         P(𝛂i > 1.2)   0.941400   0.907900           True\n",
       "11           P(𝛂i > 1)   0.999500   0.998700           True"
      ]
     },
     "execution_count": 20,
     "metadata": {},
     "output_type": "execute_result"
    }
   ],
   "source": [
    "def proportion_check(alpha_list, x_i):\n",
    "  prop = sum([1 for x in alpha_list if x > x_i]) / len(alpha_list)\n",
    "  return prop\n",
    "\n",
    "\n",
    "def get_metrics(alpha_list):\n",
    "  minimum = min(alpha_list)\n",
    "  maximum = max(alpha_list)\n",
    "  mean = np.mean(alpha_list)\n",
    "  median = np.median(alpha_list)\n",
    "  var = np.var(alpha_list)\n",
    "  std = np.std(alpha_list)\n",
    "  skewness = sum([((x - mean) / var) ** 3 for x in alpha_list]) * len(alpha_list) / ((len(alpha_list) - 1) * (len(alpha_list) - 2))\n",
    "  prop_2 = proportion_check(alpha_list, 2)\n",
    "  prop_1_8 = proportion_check(alpha_list, 1.8)\n",
    "  prop_1_5 = proportion_check(alpha_list, 1.5)\n",
    "  prop_1_2 = proportion_check(alpha_list, 1.2)\n",
    "  prop_1 = proportion_check(alpha_list, 1)\n",
    "\n",
    "  return [minimum, maximum, mean, median, var, std, skewness, prop_2, prop_1_8, prop_1_5, prop_1_2, prop_1]\n",
    "\n",
    "\n",
    "df = {\"Metric\": [\"Minimum\", \"Maximum\", \"Mean\", \"Median\", \"Variance\", \"Standard Deviation\", \"SKEWNESS\", \"P(𝛂i > 2)\", \"P(𝛂i > 1.8)\", \"P(𝛂i > 1.5)\", \"P(𝛂i > 1.2)\", \"P(𝛂i > 1)\"],\n",
    "      \"alpha1\": get_metrics(alpha1),\n",
    "      \"alpha2\": get_metrics(alpha2)\n",
    "      }\n",
    "\n",
    "df = pd.DataFrame(df)\n",
    "df[\"alpha1>alpha2\"] = df.alpha1 > df.alpha2\n",
    "df\n",
    "\n"
   ]
  },
  {
   "cell_type": "code",
   "execution_count": 21,
   "metadata": {
    "colab": {
     "base_uri": "https://localhost:8080/"
    },
    "id": "F7tSzyGhSeRB",
    "outputId": "f1e4de55-a72f-4a89-d65e-ca9958cff296"
   },
   "outputs": [
    {
     "name": "stdout",
     "output_type": "stream",
     "text": [
      "Proportion of values for which alpha1 is more than alpha2 is : 0.5\n"
     ]
    }
   ],
   "source": [
    "prop_a1_a2 = sum(df[\"alpha1>alpha2\"])/df.shape[0]\n",
    "print(f\"Proportion of values for which alpha1 is more than alpha2 is : {prop_a1_a2}\")"
   ]
  },
  {
   "cell_type": "markdown",
   "metadata": {
    "id": "6xgLOxWmgheI"
   },
   "source": [
    "Based on the statistics presented, it is difficult to make a clear recommendation on which benefit-cost ratio (BCR), alpha1 or alpha2, is better without additional context. However, some factors to consider when evaluating the BCRs include:\n",
    "\n",
    "* The central tendency of the BCRs: Since the goal is to select a BCR that is on average higher, then alpha1 may be the better choice, as it has a higher mean and median.\n",
    "* The variability of the BCRs: Since the goal is to select a BCR that is less variable or more consistent, then alpha1 may be the better choice, as it has a lower variance and standard deviation.\n",
    "* The distribution of the BCRs: Since the goal is to select a BCR that has a more symmetric or normal distribution, then alpha1 may be the better choice, as it has a smaller skewness value.\n",
    "* The proportion of extreme BCRs: Since the goal is to select a BCR that has a higher proportion of extreme values exceeding certain thresholds, then alpha2 may be the better choice, as it has lower probability values for these thresholds.\n",
    "\n",
    "Ultimately, the choice of which BCR to recommend would depend on the specific context of the projects and the goals of the analysis. It is important to consider not only the statistical measures presented in the table, but also any additional information available about the projects, such as their costs, risks, and benefits, to make an informed decision."
   ]
  },
  {
   "cell_type": "markdown",
   "metadata": {
    "id": "rWjPOvoAsEln"
   },
   "source": [
    "## Analysis:\n",
    "\n",
    "Based on the given information and analysis, I would recommend selecting Dam #1 over Dam #2. Here are my rationales for this recommendation:\n",
    "\n",
    "Central tendency of the BCRs: The benefit-cost ratio (BCR) is a measure of how much benefit a project will generate for each unit of cost incurred. A higher BCR indicates that a project is more beneficial. According to the simulation analysis conducted, the central tendency of the BCRs for Dam #1 is higher than that of Dam #2. This means that, on average, Dam #1 is expected to generate more benefits per unit cost than Dam #2.\n",
    "\n",
    "Variability of the BCRs: The variability of the BCRs for Dam #1 is lower than that of Dam #2, meaning that the BCRs for Dam #1 are less spread out than those of Dam #2. This indicates that Dam #1 is a more consistent performer than Dam #2, and is less likely to experience large fluctuations in benefit-cost ratios.\n",
    "\n",
    "Distribution of the BCRs: The skewness value for Dam #1 is smaller than that of Dam #2. A smaller skewness value indicates a more symmetric or normal distribution of BCRs, which suggests that the benefits and costs associated with Dam #1 are more evenly balanced than those of Dam #2.\n",
    "\n",
    "Proportion of extreme BCRs: The simulation analysis shows that Dam #2 has a higher probability of producing extreme values of the BCR that exceed certain thresholds. This means that there is a greater likelihood of Dam #2 producing very high or very low BCRs, which could make it a riskier choice than Dam #1.\n",
    "\n",
    "In summary, based on the above factors, it appears that Dam #1 is a safer and more reliable choice than Dam #2. While Dam #2 may have the potential to produce very high BCRs, it also comes with a greater risk of extreme values and variability, which could ultimately be detrimental to the project's success. On the other hand, Dam #1 is expected to generate more benefits per unit cost on average, and is less likely to experience significant fluctuations or extreme outcomes. Therefore, I recommend selecting Dam #1 for the project."
   ]
  },
  {
   "cell_type": "markdown",
   "metadata": {
    "id": "SCNqXHfGsL2y"
   },
   "source": [
    "Benefits:\n",
    "\n",
    "Improved Navigation: This benefit category relates to the ease of transporting goods and people on waterways. Dam #1 has a slightly lower range of estimates for this benefit compared to Dam #2, indicating that the latter may be more effective in improving navigation.\n",
    "\n",
    "Hydroelectric Power: This benefit category relates to the generation of electricity using water. Dam #1 and Dam #2 have similar estimates for this benefit category.\n",
    "\n",
    "Fish and Wildlife: This benefit category relates to the positive impact on the local ecosystem. Dam #1 has a slightly lower range of estimates for this benefit compared to Dam #2, indicating that the latter may have a slightly more positive impact on fish and wildlife.\n",
    "\n",
    "Recreation: This benefit category relates to the use of the waterway for recreational purposes, such as boating and fishing. Dam #1 has a slightly higher range of estimates for this benefit compared to Dam #2, indicating that the former may be more effective in providing recreational opportunities.\n",
    "\n",
    "Flood Control: This benefit category relates to the ability of the dam to control flooding in the local area. Dam #1 and Dam #2 have similar estimates for this benefit category.\n",
    "\n",
    "Commercial Development: This benefit category relates to the positive impact on local businesses and economic development. Dam #1 and Dam #2 have similar estimates for this benefit category.\n",
    "\n",
    "Costs:\n",
    "\n",
    "Annualized Capital Cost: This cost category relates to the total cost of building the dam over a period of 30 years. Dam #1 has a slightly lower range of estimates for this cost category compared to Dam #2, indicating that the former may be less expensive to build.\n",
    "\n",
    "Operations and Maintenance: This cost category relates to the ongoing costs of running and maintaining the dam. Dam #1 and Dam #2 have similar estimates for this cost category.\n",
    "\n",
    "Overall, based on the benefit-cost ratio analysis, it appears that Dam #1 may be the better choice. This is due to its higher mean and median BCR, lower variance and standard deviation, smaller skewness value, and higher proportion of BCR values exceeding certain thresholds. Additionally, it has slightly lower estimates for the annualized capital cost and improved navigation benefit categories, which may contribute to its higher BCR. However, it's important to note that selecting a project involves many factors beyond just the benefit-cost ratio, and additional considerations such as environmental impact, community input, and government regulations should also be taken into account."
   ]
  },
  {
   "cell_type": "code",
   "execution_count": null,
   "metadata": {
    "id": "Ug4TjdS6o2KW"
   },
   "outputs": [],
   "source": []
  }
 ],
 "metadata": {
  "colab": {
   "provenance": []
  },
  "kernelspec": {
   "display_name": "Python 3 (ipykernel)",
   "language": "python",
   "name": "python3"
  },
  "language_info": {
   "codemirror_mode": {
    "name": "ipython",
    "version": 3
   },
   "file_extension": ".py",
   "mimetype": "text/x-python",
   "name": "python",
   "nbconvert_exporter": "python",
   "pygments_lexer": "ipython3",
   "version": "3.9.12"
  }
 },
 "nbformat": 4,
 "nbformat_minor": 1
}
